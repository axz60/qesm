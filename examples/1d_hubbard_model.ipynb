{
 "cells": [
  {
   "cell_type": "markdown",
   "metadata": {},
   "source": [
    "# Example 1\n",
    "Here we calculating spectral functions and ground state energy using quantum enhanced spectral moments and RDMs. "
   ]
  },
  {
   "cell_type": "code",
   "execution_count": 1,
   "metadata": {},
   "outputs": [],
   "source": [
    "# PySCF, Vayesta and Dyson imports \n",
    "from pyscf import fci, gto\n",
    "from vayesta.lattmod import Hubbard1D, LatticeRHF\n",
    "from dyson import MBLGF, MixedMBLGF, FCI, Lehmann, util, NullLogger\n",
    "from dyson.util import greens_function_galitskii_migdal\n",
    "\n",
    "# General and Qesm imports\n",
    "import numpy as np\n",
    "from qesm.aer_recursive import *\n",
    "from qesm.aer_direct import *\n",
    "from qesm.aer_rdm import *\n",
    "from qesm.aer_util import primatives\n",
    "from matplotlib import pyplot as plt\n",
    "import warnings\n",
    "warnings.filterwarnings(\"ignore\")"
   ]
  },
  {
   "cell_type": "code",
   "execution_count": 2,
   "metadata": {},
   "outputs": [],
   "source": [
    "# hubbard dimer\n",
    "grid = np.linspace(-20,20,10000) \n",
    "nmom = 1 # number of moments to compute\n",
    "u_hub = 7\n",
    "nsite = 2\n",
    "mol_hub = Hubbard1D(\n",
    "\n",
    "    nsite=nsite,\n",
    "    nelectron=nsite, # half filling\n",
    "    hubbard_u=u_hub,\n",
    "    verbose=0,\n",
    ")\n",
    "\n",
    "mf_hub = LatticeRHF(mol_hub)\n",
    "mf_hub.kernel()\n",
    "myci = fci.FCI(mf_hub, mf_hub.mo_coeff)\n",
    "\n",
    "#fci observables\n",
    "fci_energy , fci_vecs = myci.kernel()\n",
    "fci_1rdm = myci.make_rdm1(fci_vecs, mf_hub.mo_coeff.shape[1],mol_hub.nelec)\n",
    "fci_2rdm = myci.make_rdm2(fci_vecs, mf_hub.mo_coeff.shape[1],mol_hub.nelec)\n",
    "\n",
    "###################### FCI spectral function ###################### \n",
    "\n",
    "expr = FCI[\"1h\"](mf_hub, mo_energy=mf_hub.mo_energy, mo_coeff=mf_hub.mo_coeff, mo_occ=mf_hub.mo_occ)\n",
    "th_fci = expr.build_gf_moments(nmom+1)\n",
    "\n",
    "expr = FCI[\"1p\"](mf_hub, mo_energy=mf_hub.mo_energy, mo_coeff=mf_hub.mo_coeff, mo_occ=mf_hub.mo_occ)\n",
    "tp_fci = expr.build_gf_moments(nmom+1)\n",
    "\n",
    "solverh = MBLGF(th_fci, log=NullLogger())\n",
    "solverp = MBLGF(tp_fci, log=NullLogger())\n",
    "solver = MixedMBLGF(solverh, solverp)\n",
    "solver.kernel()\n",
    "E,V = solver.get_dyson_orbitals()\n",
    "sf_fci = util.build_spectral_function(E, V, grid, eta=0.01)\n",
    "#########################################################"
   ]
  },
  {
   "cell_type": "code",
   "execution_count": 3,
   "metadata": {},
   "outputs": [],
   "source": [
    "# set up primatives \n",
    "prims = primatives(shots=100000)\n",
    "sv_estimator = prims['sv estimator']\n",
    "estimator = prims['estimator']\n",
    "simulator = prims['simulator']\n",
    "\n",
    "# initialise methods \n",
    "rec_obj = RecursiveMethod(\n",
    "    mf=mf_hub,\n",
    "    vqe_estimator=sv_estimator,\n",
    "    simulator=simulator,\n",
    ")\n",
    "dir_obj = DirectMethod(\n",
    "    mf=mf_hub,\n",
    "    vqe_estimator=sv_estimator,\n",
    "    expectation_estimator=estimator,\n",
    ")\n",
    "rdm_obj = RDMs(\n",
    "    mf=mf_hub,\n",
    "    vqe_estimator=sv_estimator,\n",
    "    expectation_estimator=estimator,\n",
    ")"
   ]
  },
  {
   "cell_type": "code",
   "execution_count": 4,
   "metadata": {},
   "outputs": [
    {
     "name": "stdout",
     "output_type": "stream",
     "text": [
      "FCI energy: -0.531128874149271\n",
      "Recursive energy: -0.5404455647558335\n",
      "Direct energy: -0.5261499007329872\n",
      "RDM energy: -0.5552050268239037\n"
     ]
    }
   ],
   "source": [
    "# Calculating ground state energy via recursive, direct and RDM methods. \n",
    "\n",
    "rdm_energy = rdm_obj.get_energy()\n",
    "rec_energy = rec_obj.get_galitski_migdal_energy(maxiter=100, optimizer='slsqp')\n",
    "dir_energy = dir_obj.get_galitski_migdal_energy(maxiter=100, optimizer='slsqp')\n",
    "\n",
    "# check that the energies are equal to the FCI energy\n",
    "print(f\"FCI energy: {fci_energy}\")\n",
    "print(f\"Recursive energy: {rec_energy}\")\n",
    "print(f\"Direct energy: {dir_energy}\")\n",
    "print(f\"RDM energy: {rdm_energy}\")\n"
   ]
  },
  {
   "cell_type": "code",
   "execution_count": 5,
   "metadata": {},
   "outputs": [],
   "source": [
    "# Calculating the spectral function via recursive and direct methods, then comparing to the FCI spectral function.\n",
    "rec_sf = rec_obj.get_spectral_function(grid, nmom=nmom, maxiter=100, optimizer='slsqp')\n",
    "dir_sf = dir_obj.get_spectral_function(grid, nmom=nmom, maxiter=100, optimizer='slsqp')"
   ]
  },
  {
   "cell_type": "code",
   "execution_count": 7,
   "metadata": {},
   "outputs": [
    {
     "data": {
      "image/png": "[encoded data removed]",
      "text/plain": [
       "<Figure size 640x480 with 1 Axes>"
      ]
     },
     "metadata": {},
     "output_type": "display_data"
    }
   ],
   "source": [
    "# plt.axvline(x=0.0,color='black')\n",
    "plt.plot(grid,sf_fci,'-',label='FCI')\n",
    "plt.plot(grid,dir_sf['spectral function'], '-',label='Direct')\n",
    "plt.plot(grid,dir_sf['spectral function'], '-',label='Recursive')\n",
    "plt.xlabel(\"Frequency ($\\omega$)\")\n",
    "plt.ylabel(\"Spectral function A($\\omega$)\")\n",
    "plt.legend()\n",
    "plt.show()"
   ]
  }
 ],
 "metadata": {
  "kernelspec": {
   "display_name": "hva_test",
   "language": "python",
   "name": "python3"
  },
  "language_info": {
   "codemirror_mode": {
    "name": "ipython",
    "version": 3
   },
   "file_extension": ".py",
   "mimetype": "text/x-python",
   "name": "python",
   "nbconvert_exporter": "python",
   "pygments_lexer": "ipython3",
   "version": "3.12.8"
  }
 },
 "nbformat": 4,
 "nbformat_minor": 2
}
